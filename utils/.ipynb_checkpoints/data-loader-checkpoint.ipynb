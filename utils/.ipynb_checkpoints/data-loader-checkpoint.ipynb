{
 "cells": [
  {
   "cell_type": "code",
   "execution_count": 17,
   "metadata": {},
   "outputs": [],
   "source": [
    "import scipy.io\n",
    "import numpy as np\n",
    "\n",
    "class data_loader():\n",
    "    #loading frames of given actions\n",
    "    def __init__(self, matlab_action_path='', actions_list=[1]):\n",
    "        self.map = matlab_action_path\n",
    "        self.actions_list = actions_list\n",
    "        \n",
    "    def __get_raw_action(self, no_action=1, twoD_true_or_threeD_false=False):\n",
    "        data_all = scipy.io.loadmat(self.map+'action_'+str(no_action)+'_Data.mat')\n",
    "        if twoD_true_or_threeD_false:\n",
    "            data = data_all['TwoD_Trajectories']\n",
    "        else:\n",
    "            data = data_all['ThreeD_Trajectories']\n",
    "        \n",
    "        return data\n",
    "    \n",
    "    def person_repeat(self, data, no_person, no_repeat, twoD_true_or_threeD_false=False):\n",
    "        if twoD_true_or_threeD_false:\n",
    "            data = data[no_person][no_repeat][0][0]\n",
    "        else:\n",
    "            data = data[no_person][no_repeat]\n",
    "        return data\n",
    "    \n",
    "    def person_all_repeats(self, data, no_person, twoD_true_or_threeD_false=False):\n",
    "        flag = twoD_true_or_threeD_false\n",
    "        mylist = []\n",
    "        for repeatation in range(5):\n",
    "            mylist.extend(self.person_repeat(data, no_person, repeatation,flag))\n",
    "        return mylist\n",
    "    \n",
    "    def actions(self, list_of_actions, twoD_true_or_threeD_false=False):\n",
    "        flag = twoD_true_or_threeD_false\n",
    "        mylist = []\n",
    "        for theaction in list_of_actions:\n",
    "            data = self.__get_raw_action(theaction, flag)\n",
    "            for person in range(10): \n",
    "                mylist.extend(self.person_all_repeats(data, person, flag))\n",
    "        return mylist\n",
    "    \n",
    "    def actions_standardised(self, list_of_actions, twoD_true_or_threeD_false=False):\n",
    "        threeD = self.actions( list_of_actions, twoD_true_or_threeD_false=False)\n",
    "        npthreeD = np.array(threeD)\n",
    "        threeD_mean = npthreeD.mean()\n",
    "        threeD_std = npthreeD.std()\n",
    "        npthreeD_standard = (npthreeD - threeD_mean) / threeD_std\n",
    "        return npthreeD_standard, threeD_mean, threeD_std\n",
    "    \n",
    "    def actions_normalised(self, list_of_actions, twoD_true_or_threeD_false=False):\n",
    "        threeD = self.actions( list_of_actions, twoD_true_or_threeD_false=False)\n",
    "        npthreeD = np.array(threeD)\n",
    "        threeD_min = npthreeD.min()\n",
    "        threeD_max = npthreeD.max()\n",
    "        npthreeD_normalised= np.interp(npthreeD, (threeD_min, threeD_max), (-1, +1))\n",
    "        return npthreeD_normalised, threeD_min, threeD_max"
   ]
  },
  {
   "cell_type": "code",
   "execution_count": 18,
   "metadata": {},
   "outputs": [],
   "source": [
    "m = data_loader(matlab_action_path='../../')\n",
    "threeD = m.actions([1],False)"
   ]
  },
  {
   "cell_type": "code",
   "execution_count": 19,
   "metadata": {},
   "outputs": [
    {
     "data": {
      "text/plain": [
       "(117562, 105)"
      ]
     },
     "execution_count": 19,
     "metadata": {},
     "output_type": "execute_result"
    }
   ],
   "source": [
    "threeD, _,_= m.actions_standardised([1],False)\n",
    "threeD.shape"
   ]
  },
  {
   "cell_type": "code",
   "execution_count": null,
   "metadata": {},
   "outputs": [],
   "source": []
  }
 ],
 "metadata": {
  "kernelspec": {
   "display_name": "Python 3",
   "language": "python",
   "name": "python3"
  },
  "language_info": {
   "codemirror_mode": {
    "name": "ipython",
    "version": 3
   },
   "file_extension": ".py",
   "mimetype": "text/x-python",
   "name": "python",
   "nbconvert_exporter": "python",
   "pygments_lexer": "ipython3",
   "version": "3.6.8"
  }
 },
 "nbformat": 4,
 "nbformat_minor": 2
}
